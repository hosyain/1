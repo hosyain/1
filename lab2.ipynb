{
  "nbformat": 4,
  "nbformat_minor": 0,
  "metadata": {
    "colab": {
      "provenance": [],
      "authorship_tag": "ABX9TyMCGgEL+fGZIKmHgGf+eUgC",
      "include_colab_link": true
    },
    "kernelspec": {
      "name": "python3",
      "display_name": "Python 3"
    },
    "language_info": {
      "name": "python"
    }
  },
  "cells": [
    {
      "cell_type": "markdown",
      "metadata": {
        "id": "view-in-github",
        "colab_type": "text"
      },
      "source": [
        "<a href=\"https://colab.research.google.com/github/hosyain/1/blob/main/lab2.ipynb\" target=\"_parent\"><img src=\"https://colab.research.google.com/assets/colab-badge.svg\" alt=\"Open In Colab\"/></a>"
      ]
    },
    {
      "cell_type": "code",
      "execution_count": null,
      "metadata": {
        "colab": {
          "base_uri": "https://localhost:8080/"
        },
        "id": "fT6FwyKFh_-v",
        "outputId": "2f218ea7-8e68-4d1e-9fc1-e9d6272bf654"
      },
      "outputs": [
        {
          "output_type": "stream",
          "name": "stdout",
          "text": [
            "   Id       Name  Year Gender  Count\n",
            "0   1       Mary  1880      F   7065\n",
            "1   2       Anna  1880      F   2604\n",
            "2   3       Emma  1880      F   2003\n",
            "3   4  Elizabeth  1880      F   1939\n",
            "4   5     Minnie  1880      F   1746\n",
            "5   6   Margaret  1880      F   1578\n",
            "6   7        Ida  1880      F   1472\n",
            "7   8      Alice  1880      F   1414\n"
          ]
        }
      ],
      "source": [
        "import pandas as pd\n",
        "# вправа 1\n",
        "\n",
        "df = pd.read_csv('/content/NationalNames.csv')\n",
        "\n",
        "\n",
        "print(df.head(8))\n"
      ]
    },
    {
      "cell_type": "code",
      "source": [
        "#2\n",
        "\n",
        "\n",
        "\n",
        "df = pd.read_csv('/content/NationalNames.csv')\n",
        "\n",
        "\n",
        "print(df.tail(8))\n"
      ],
      "metadata": {
        "colab": {
          "base_uri": "https://localhost:8080/"
        },
        "id": "zaPT1Wa5jbtg",
        "outputId": "d7ee7f23-41d5-4fcd-e676-f005afc4f22d"
      },
      "execution_count": null,
      "outputs": [
        {
          "output_type": "stream",
          "name": "stdout",
          "text": [
            "              Id     Name  Year Gender  Count\n",
            "1825425  1825426       Zo  2014      M      5\n",
            "1825426  1825427    Zyeir  2014      M      5\n",
            "1825427  1825428     Zyel  2014      M      5\n",
            "1825428  1825429   Zykeem  2014      M      5\n",
            "1825429  1825430   Zymeer  2014      M      5\n",
            "1825430  1825431  Zymiere  2014      M      5\n",
            "1825431  1825432    Zyran  2014      M      5\n",
            "1825432  1825433    Zyrin  2014      M      5\n"
          ]
        }
      ]
    },
    {
      "cell_type": "code",
      "source": [
        "\n",
        "\n",
        "# З\n",
        "df = pd.read_csv('/content/NationalNames.csv')\n",
        "\n",
        "\n",
        "print(df.columns)\n"
      ],
      "metadata": {
        "colab": {
          "base_uri": "https://localhost:8080/"
        },
        "id": "EwaFeC51lvI1",
        "outputId": "814e0631-af88-495c-e5f2-e289a55acf3f"
      },
      "execution_count": null,
      "outputs": [
        {
          "output_type": "stream",
          "name": "stdout",
          "text": [
            "Index(['Id', 'Name', 'Year', 'Gender', 'Count'], dtype='object')\n"
          ]
        }
      ]
    },
    {
      "cell_type": "code",
      "source": [
        "# 5\n",
        "df = pd.read_csv('/content/NationalNames.csv')\n",
        "\n",
        "\n",
        "unique_names_count = df['Name'].nunique()\n",
        "\n",
        "print(unique_names_count)"
      ],
      "metadata": {
        "colab": {
          "base_uri": "https://localhost:8080/"
        },
        "id": "mF1JDd-zl1Hp",
        "outputId": "5096396a-c85a-41c0-d0fe-29fddb0474ab"
      },
      "execution_count": null,
      "outputs": [
        {
          "output_type": "stream",
          "name": "stdout",
          "text": [
            "93889\n"
          ]
        }
      ]
    },
    {
      "cell_type": "code",
      "source": [
        "\n",
        "df = pd.read_csv('/content/NationalNames.csv')\n",
        "\n",
        "# 10\n",
        "unique_names_per_year = df.groupby('Year')['Name'].nunique()\n",
        "\n",
        "print(unique_names_per_year)"
      ],
      "metadata": {
        "colab": {
          "base_uri": "https://localhost:8080/"
        },
        "id": "dObiVk_4ohQQ",
        "outputId": "4ea5c212-a3e6-4988-9cda-bab33253aa74"
      },
      "execution_count": null,
      "outputs": [
        {
          "output_type": "stream",
          "name": "stdout",
          "text": [
            "Year\n",
            "1880     1889\n",
            "1881     1830\n",
            "1882     2012\n",
            "1883     1962\n",
            "1884     2158\n",
            "        ...  \n",
            "2010    31603\n",
            "2011    31418\n",
            "2012    31236\n",
            "2013    30774\n",
            "2014    30579\n",
            "Name: Name, Length: 135, dtype: int64\n"
          ]
        }
      ]
    },
    {
      "cell_type": "code",
      "source": [
        "#11\n",
        "df = pd.read_csv('/content/NationalNames.csv')\n",
        "\n",
        "\n",
        "unique_names_per_year = df.groupby('Year')['Name'].nunique()\n",
        "\n",
        "\n",
        "max_unique_year = unique_names_per_year.idxmax()\n",
        "max_unique_count = unique_names_per_year.max()\n",
        "\n",
        "\n",
        "result = pd.DataFrame({'Year': [max_unique_year], 'Name': [max_unique_count]})\n",
        "result.set_index('Year', inplace=True)\n",
        "\n",
        "print(result)"
      ],
      "metadata": {
        "colab": {
          "base_uri": "https://localhost:8080/"
        },
        "id": "LLdSUwJjpR6b",
        "outputId": "6ede0cac-5604-4a0e-df30-dc4176047339"
      },
      "execution_count": null,
      "outputs": [
        {
          "output_type": "stream",
          "name": "stdout",
          "text": [
            "       Name\n",
            "Year       \n",
            "2008  32488\n"
          ]
        }
      ]
    },
    {
      "cell_type": "code",
      "source": [
        "# 12\n",
        "df = pd.read_csv('/content/NationalNames.csv')\n",
        "\n",
        "\n",
        "data_2008 = df[df['Year'] == 2008]\n",
        "\n",
        "\n",
        "most_popular_name_2008 = data_2008.loc[data_2008['Count'].idxmax()]\n",
        "\n",
        "\n",
        "print(most_popular_name_2008['Name'])\n"
      ],
      "metadata": {
        "colab": {
          "base_uri": "https://localhost:8080/"
        },
        "id": "MHyRFJs9phmY",
        "outputId": "7684c466-d41f-40e9-a825-13066db96a6a"
      },
      "execution_count": null,
      "outputs": [
        {
          "output_type": "stream",
          "name": "stdout",
          "text": [
            "Jacob\n"
          ]
        }
      ]
    },
    {
      "cell_type": "code",
      "source": [
        "# 13\n",
        "df = pd.read_csv('/content/NationalNames.csv')\n",
        "\n",
        "\n",
        "jacob_female = df[(df['Name'] == 'Jacob') & (df['Gender'] == 'F')]\n",
        "\n",
        "\n",
        "if not jacob_female.empty:\n",
        "\n",
        "    most_popular_jacob_female = jacob_female.loc[jacob_female['Count'].idxmax()]\n",
        "\n",
        "    print(most_popular_jacob_female)\n",
        "else:\n",
        "    print(\"Имя 'Jacob' не найдено среди женских имен.\")"
      ],
      "metadata": {
        "colab": {
          "base_uri": "https://localhost:8080/"
        },
        "id": "NTTzSDyUrBTV",
        "outputId": "6c661601-de5f-4b87-822e-3c0ac491791c"
      },
      "execution_count": null,
      "outputs": [
        {
          "output_type": "stream",
          "name": "stdout",
          "text": [
            "Id        1455557\n",
            "Name        Jacob\n",
            "Year         2004\n",
            "Gender          F\n",
            "Count         171\n",
            "Name: 1455556, dtype: object\n"
          ]
        }
      ]
    },
    {
      "cell_type": "code",
      "source": [
        "# 14\n",
        "df = pd.read_csv('/content/NationalNames.csv')\n",
        "\n",
        "\n",
        "gender_neutral_names = df.groupby('Name')['Gender'].nunique()\n",
        "gender_neutral_names = gender_neutral_names[gender_neutral_names > 1].index.tolist()\n",
        "\n",
        "\n",
        "neutral_names_data = df[df['Name'].isin(gender_neutral_names)]\n",
        "\n",
        "\n",
        "neutral_names_count_per_year = neutral_names_data.groupby('Year').size()\n",
        "\n",
        "\n",
        "year_with_most_neutral_names = neutral_names_count_per_year.idxmax()\n",
        "max_neutral_names_count = neutral_names_count_per_year.max()\n",
        "\n",
        "\n",
        "result_df = pd.DataFrame({\n",
        "    'Gender_neutral_names': [max_neutral_names_count]\n",
        "}, index=[year_with_most_neutral_names])\n",
        "\n",
        "\n",
        "print(result_df)\n"
      ],
      "metadata": {
        "colab": {
          "base_uri": "https://localhost:8080/"
        },
        "id": "b6o87UhDsP-K",
        "outputId": "14ffd38c-3a06-4ee6-d4b9-40e42713bd02"
      },
      "execution_count": null,
      "outputs": [
        {
          "output_type": "stream",
          "name": "stdout",
          "text": [
            "      Gender_neutral_names\n",
            "2008                  9914\n"
          ]
        }
      ]
    },
    {
      "cell_type": "code",
      "source": [
        "# 15\n",
        "df = pd.read_csv('/content/NationalNames.csv')\n",
        "\n",
        "\n",
        "total_births_per_year = df.groupby('Year')['Count'].sum()\n",
        "\n",
        "\n",
        "total_births_df = total_births_per_year.reset_index()\n",
        "\n",
        "\n",
        "total_births_df.set_index('Year', inplace=True)\n",
        "\n",
        "\n",
        "print(total_births_df.head())"
      ],
      "metadata": {
        "colab": {
          "base_uri": "https://localhost:8080/"
        },
        "id": "nN8fGmwltWjn",
        "outputId": "78ebf632-1969-49b5-96a5-fa8be267142a"
      },
      "execution_count": null,
      "outputs": [
        {
          "output_type": "stream",
          "name": "stdout",
          "text": [
            "       Count\n",
            "Year        \n",
            "1880  201484\n",
            "1881  192699\n",
            "1882  221538\n",
            "1883  216950\n",
            "1884  243467\n"
          ]
        }
      ]
    },
    {
      "cell_type": "code",
      "source": [
        "# 16\n",
        "df = pd.read_csv('/content/NationalNames.csv')\n",
        "\n",
        "\n",
        "total_births_per_year = df.groupby('Year')['Count'].sum()\n",
        "\n",
        "\n",
        "year_with_most_births = total_births_per_year.idxmax()\n",
        "\n",
        "\n",
        "print(year_with_most_births)"
      ],
      "metadata": {
        "colab": {
          "base_uri": "https://localhost:8080/"
        },
        "id": "sxeEBOLmvmyc",
        "outputId": "4cb3abc2-9798-44f3-ef41-76e49e1113ec"
      },
      "execution_count": null,
      "outputs": [
        {
          "output_type": "stream",
          "name": "stdout",
          "text": [
            "1957\n"
          ]
        }
      ]
    },
    {
      "cell_type": "code",
      "source": [
        "# 17\n",
        "df = pd.read_csv('/content/NationalNames.csv')\n",
        "\n",
        "\n",
        "births_by_gender = df.groupby(['Year', 'Gender'])['Count'].sum().unstack()\n",
        "\n",
        "\n",
        "print(births_by_gender.head())"
      ],
      "metadata": {
        "colab": {
          "base_uri": "https://localhost:8080/"
        },
        "id": "v_R6jxShwNnH",
        "outputId": "7d6076a1-e00f-44db-af7e-6adf55e44d46"
      },
      "execution_count": null,
      "outputs": [
        {
          "output_type": "stream",
          "name": "stdout",
          "text": [
            "Gender       F       M\n",
            "Year                  \n",
            "1880     90993  110491\n",
            "1881     91954  100745\n",
            "1882    107850  113688\n",
            "1883    112321  104629\n",
            "1884    129022  114445\n"
          ]
        }
      ]
    },
    {
      "cell_type": "code",
      "source": [
        "# 18\n",
        "df = pd.read_csv('/content/NationalNames.csv')\n",
        "\n",
        "\n",
        "births_by_gender = df.groupby(['Year', 'Gender'])['Count'].sum().unstack()\n",
        "\n",
        "\n",
        "years_with_more_girls = (births_by_gender['F'] > births_by_gender['M']).sum()\n",
        "\n",
        "\n",
        "print(years_with_more_girls)"
      ],
      "metadata": {
        "colab": {
          "base_uri": "https://localhost:8080/"
        },
        "id": "xfPfBFsFETiL",
        "outputId": "59b1b99d-65ba-49d9-e89c-42b3bd136db8"
      },
      "execution_count": null,
      "outputs": [
        {
          "output_type": "stream",
          "name": "stdout",
          "text": [
            "54\n"
          ]
        }
      ]
    },
    {
      "cell_type": "code",
      "source": [
        "# 21\n",
        "df = pd.read_csv('/content/NationalNames.csv')\n",
        "\n",
        "\n",
        "count_barbara_boys = df[(df['Name'] == 'Barbara') & (df['Gender'] == 'M')]['Count'].sum()\n",
        "\n",
        "\n",
        "print(count_barbara_boys)"
      ],
      "metadata": {
        "colab": {
          "base_uri": "https://localhost:8080/"
        },
        "id": "WmFb1YxTEr0_",
        "outputId": "7ebe55d9-8c74-44e2-eb43-460cb208fa8c"
      },
      "execution_count": null,
      "outputs": [
        {
          "output_type": "stream",
          "name": "stdout",
          "text": [
            "4139\n"
          ]
        }
      ]
    },
    {
      "cell_type": "code",
      "source": [
        "# 22\n",
        "df = pd.read_csv('/content/NationalNames.csv')\n",
        "\n",
        "\n",
        "num_years = df['Year'].nunique()\n",
        "\n",
        "\n",
        "result = f\"Спостереження проводилось {num_years} років\"\n",
        "\n",
        "\n",
        "print(result)"
      ],
      "metadata": {
        "colab": {
          "base_uri": "https://localhost:8080/"
        },
        "id": "swJ_CDpDE-nM",
        "outputId": "7c8d0057-e57c-4f17-af9c-a88a0352a5da"
      },
      "execution_count": null,
      "outputs": [
        {
          "output_type": "stream",
          "name": "stdout",
          "text": [
            "Спостереження проводилось 135 років\n"
          ]
        }
      ]
    },
    {
      "cell_type": "code",
      "source": [
        "# 23\n",
        "df = pd.read_csv('/content/NationalNames.csv')\n",
        "\n",
        "\n",
        "years = df['Year'].unique()\n",
        "\n",
        "\n",
        "gender_neutral_names = df.groupby('Name')['Gender'].nunique()\n",
        "gender_neutral_names = gender_neutral_names[gender_neutral_names > 1].index.tolist()\n",
        "\n",
        "\n",
        "neutral_names_data = df[df['Name'].isin(gender_neutral_names)]\n",
        "\n",
        "\n",
        "names_present_every_year = neutral_names_data.groupby('Name')['Year'].nunique()\n",
        "names_present_every_year = names_present_every_year[names_present_every_year == len(years)].index.tolist()\n",
        "\n",
        "\n",
        "result_df = pd.DataFrame(names_present_every_year, columns=[0])\n",
        "\n",
        "\n",
        "print(result_df)"
      ],
      "metadata": {
        "colab": {
          "base_uri": "https://localhost:8080/"
        },
        "id": "RM1_0wfXGAiH",
        "outputId": "90690312-71ce-4268-bff6-e5e557e987c1"
      },
      "execution_count": null,
      "outputs": [
        {
          "output_type": "stream",
          "name": "stdout",
          "text": [
            "            0\n",
            "0       Aaron\n",
            "1       Abbie\n",
            "2        Abel\n",
            "3     Abigail\n",
            "4     Abraham\n",
            "..        ...\n",
            "818    Wilson\n",
            "819  Winifred\n",
            "820    Winnie\n",
            "821     Wyatt\n",
            "822       Zoe\n",
            "\n",
            "[823 rows x 1 columns]\n"
          ]
        }
      ]
    },
    {
      "cell_type": "code",
      "source": [
        "# 24\n",
        "df = pd.read_csv('/content/NationalNames.csv')\n",
        "\n",
        "\n",
        "name_counts = df.groupby('Name')['Count'].sum()\n",
        "\n",
        "\n",
        "unpopular_names = name_counts[name_counts <= 160]\n",
        "\n",
        "\n",
        "most_popular_among_unpopular = unpopular_names.idxmax()\n",
        "max_count = unpopular_names.max()\n",
        "\n",
        "\n",
        "result = f\"Наиболее популярное из непопулярных имен - это {most_popular_among_unpopular}. Им называли {max_count} раз\"\n",
        "\n",
        "\n",
        "print(result)"
      ],
      "metadata": {
        "colab": {
          "base_uri": "https://localhost:8080/"
        },
        "id": "peBagxKNGMj0",
        "outputId": "ca008394-f0cc-425b-eb1e-2d7afaee586b"
      },
      "execution_count": null,
      "outputs": [
        {
          "output_type": "stream",
          "name": "stdout",
          "text": [
            "Наиболее популярное из непопулярных имен - это Adriyana. Им называли 160 раз\n"
          ]
        }
      ]
    },
    {
      "cell_type": "code",
      "source": [
        "import pandas as pd\n",
        "import matplotlib.pyplot as plt\n",
        "\n",
        "#26\n",
        "df = pd.read_csv('/content/NationalNames.csv')\n",
        "\n",
        "\n",
        "john_data = df[(df['Name'] == 'John') & (df['Gender'] == 'M')]\n",
        "mary_data = df[(df['Name'] == 'Mary') & (df['Gender'] == 'F')]\n",
        "\n",
        "\n",
        "plt.figure(figsize=(10, 6))\n",
        "plt.plot(john_data['Year'], john_data['Count'], label='John', color='blue')\n",
        "plt.plot(mary_data['Year'], mary_data['Count'], label='Mary', color='orange')\n",
        "\n",
        "\n",
        "plt.xlabel('Year')\n",
        "plt.ylabel('Count')\n",
        "plt.title('Розподіл кількості імен John та Mary по роках')\n",
        "plt.legend()\n",
        "\n",
        "\n",
        "plt.show()\n"
      ],
      "metadata": {
        "colab": {
          "base_uri": "https://localhost:8080/",
          "height": 564
        },
        "id": "gLr1nWq9P4X2",
        "outputId": "d898f010-7600-47e1-d156-8cdcf6a103a7"
      },
      "execution_count": null,
      "outputs": [
        {
          "output_type": "display_data",
          "data": {
            "text/plain": [
              "<Figure size 1000x600 with 1 Axes>"
            ],
            "image/png": "[encoded data removed]"
          },
          "metadata": {}
        }
      ]
    }
  ]
}