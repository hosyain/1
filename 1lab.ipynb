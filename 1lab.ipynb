{
  "nbformat": 4,
  "nbformat_minor": 0,
  "metadata": {
    "colab": {
      "provenance": [],
      "authorship_tag": "ABX9TyPEvKYqNzkycyrSzkt65MX6",
      "include_colab_link": true
    },
    "kernelspec": {
      "name": "python3",
      "display_name": "Python 3"
    },
    "language_info": {
      "name": "python"
    }
  },
  "cells": [
    {
      "cell_type": "markdown",
      "metadata": {
        "id": "view-in-github",
        "colab_type": "text"
      },
      "source": [
        "<a href=\"https://colab.research.google.com/github/hosyain/1/blob/main/1lab.ipynb\" target=\"_parent\"><img src=\"https://colab.research.google.com/assets/colab-badge.svg\" alt=\"Open In Colab\"/></a>"
      ]
    },
    {
      "cell_type": "code",
      "execution_count": 1,
      "metadata": {
        "id": "5VY9dU5wOvy9"
      },
      "outputs": [],
      "source": [
        "def evklid(a, b):\n",
        "  # 16, 36 -> 4\n",
        "  while a != b:\n",
        "    if a > b:\n",
        "      a -= b\n",
        "    else:\n",
        "      b -= a\n",
        "  return a\n",
        ""
      ]
    },
    {
      "cell_type": "markdown",
      "source": [
        "#Загальна інформація\n",
        "1.1 Географічні характеристики\n",
        "Площа: 274,000 км². Населення: 21,9 млн осіб.\n",
        "\n",
        "1.2 Структура влади\n",
        "\n",
        "Тип правління: Президентська республіка. Голова держави: Президент Рок Каборе (з 2015 року). Голова уряду: Прем'єр-міністр Меле Каборе (з 2021 року). Офіційна мова: Французька.\n",
        "\n",
        "Видатні особистості\n",
        "Тома́ Санка́ра́ (1954-1987) - революціонер, марксист, президент Верхньої Вольти (1983-1987). Арістід Десіре́ Лінгані (1936-2007) - політик, президент Верхньої Вольти (1978-1983). Іссака́ Сиссо́ (1950-) - письменник, драматург, режисер.\n",
        "\n",
        "Культурні та природні пам'ятки\n",
        "Культурні пам'ятки:\n",
        "\n",
        "Місто Бандіагара: глиняні будинки народу догонів, занесене до списку Всесвітньої спадщини ЮНЕСКО.\n",
        "Мечеть Ларго: одна з найстаріших мечетей у Західній Африці, розташована в місті Уагадугу.\n",
        "Національний музей Буркіна-Фасо: експонати з історії та культури країни.\n",
        "Природні пам'ятки:\n",
        "\n",
        "Національний парк Пік-де-Тенгела: гори, савани та водоспади.\n",
        "Заповідник дикої природи Арлі: слони, жирафи, леви та інші тварини.\n",
        "Озеро Накуру: одне з найважливіших місць гніздування рожевих фламінго в Африці.\n",
        "\n",
        "#### Таблиця:\n",
        "\n",
        "| Параметр            | Значення                  |\n",
        "|---------------------|---------------------------|\n",
        "| Площа               | 274,000 км²               |\n",
        "| Населення           | 21,9 млн осіб             |\n",
        "| Густота населення   | 80 осіб/км²               |\n",
        "| Державний устрій    | Президентська республіка  |\n",
        "\n",
        "![Фото](https://encrypted-tbn0.gstatic.com/images?q=tbn:ANd9GcTzF4TKESinmkHZHMIksD9X44L2o2f1J2nesA&usqp=CAU)\n"
      ],
      "metadata": {
        "id": "yG0NpMfPsrnc"
      }
    },
    {
      "cell_type": "code",
      "source": [
        "%%html\n",
        "<svg xmlns=\"http://www.w3.org/2000/svg\" xmlns:xlink=\"http://www.w3.org/1999/xlink\" version=\"1.0\" width=\"900\" height=\"600\">\n",
        "  <rect width=\"900\" height=\"600\" fill=\"#009e49\"/>\n",
        "  <rect width=\"900\" height=\"300\" fill=\"#ef2b2d\"/>\n",
        "  <g transform=\"translate(450,300)\" fill=\"#fcd116\">\n",
        "    <g id=\"c\">\n",
        "      <path id=\"t\" d=\"M 0,-100 V 0 H 50\" transform=\"rotate(18 0,-100)\"/>\n",
        "      <use xlink:href=\"#t\" transform=\"scale(-1,1)\"/>\n",
        "    </g>\n",
        "    <use xlink:href=\"#c\" transform=\"rotate(72)\"/>\n",
        "    <use xlink:href=\"#c\" transform=\"rotate(144)\"/>\n",
        "    <use xlink:href=\"#c\" transform=\"rotate(216)\"/>\n",
        "    <use xlink:href=\"#c\" transform=\"rotate(288)\"/>\n",
        "  </g>\n",
        "  <rect xmlns=\"http://www.w3.org/2000/svg\" width=\"900\" height=\"600\" fill=\"#009e49\"/>\n",
        "  <rect xmlns=\"http://www.w3.org/2000/svg\" width=\"900\" height=\"300\" fill=\"#ef2b2d\"/>\n",
        "  <g xmlns=\"http://www.w3.org/2000/svg\" transform=\"translate(450,300)\" fill=\"#fcd116\">\n",
        "    <g id=\"c\">\n",
        "      <path id=\"t\" d=\"M 0,-100 V 0 H 50\" transform=\"rotate(18 0,-100)\"/>\n",
        "      <use xmlns:xlink=\"http://www.w3.org/1999/xlink\" xlink:href=\"#t\" transform=\"scale(-1,1)\"/>\n",
        "    </g>\n",
        "    <use xmlns:xlink=\"http://www.w3.org/1999/xlink\" xlink:href=\"#c\" transform=\"rotate(72)\"/>\n",
        "    <use xmlns:xlink=\"http://www.w3.org/1999/xlink\" xlink:href=\"#c\" transform=\"rotate(144)\"/>\n",
        "    <use xmlns:xlink=\"http://www.w3.org/1999/xlink\" xlink:href=\"#c\" transform=\"rotate(216)\"/>\n",
        "    <use xmlns:xlink=\"http://www.w3.org/1999/xlink\" xlink:href=\"#c\" transform=\"rotate(288)\"/>\n",
        "  </g>\n",
        "</svg>"
      ],
      "metadata": {
        "colab": {
          "base_uri": "https://localhost:8080/",
          "height": 621
        },
        "id": "faLxXX26uKtn",
        "outputId": "036f059d-a887-49f6-c480-1363d6ebbe9b"
      },
      "execution_count": 2,
      "outputs": [
        {
          "output_type": "display_data",
          "data": {
            "text/plain": [
              "<IPython.core.display.HTML object>"
            ],
            "text/html": [
              "<svg xmlns=\"http://www.w3.org/2000/svg\" xmlns:xlink=\"http://www.w3.org/1999/xlink\" version=\"1.0\" width=\"900\" height=\"600\">\n",
              "  <rect width=\"900\" height=\"600\" fill=\"#009e49\"/>\n",
              "  <rect width=\"900\" height=\"300\" fill=\"#ef2b2d\"/>\n",
              "  <g transform=\"translate(450,300)\" fill=\"#fcd116\">\n",
              "    <g id=\"c\">\n",
              "      <path id=\"t\" d=\"M 0,-100 V 0 H 50\" transform=\"rotate(18 0,-100)\"/>\n",
              "      <use xlink:href=\"#t\" transform=\"scale(-1,1)\"/>\n",
              "    </g>\n",
              "    <use xlink:href=\"#c\" transform=\"rotate(72)\"/>\n",
              "    <use xlink:href=\"#c\" transform=\"rotate(144)\"/>\n",
              "    <use xlink:href=\"#c\" transform=\"rotate(216)\"/>\n",
              "    <use xlink:href=\"#c\" transform=\"rotate(288)\"/>\n",
              "  </g>\n",
              "  <rect xmlns=\"http://www.w3.org/2000/svg\" width=\"900\" height=\"600\" fill=\"#009e49\"/>\n",
              "  <rect xmlns=\"http://www.w3.org/2000/svg\" width=\"900\" height=\"300\" fill=\"#ef2b2d\"/>\n",
              "  <g xmlns=\"http://www.w3.org/2000/svg\" transform=\"translate(450,300)\" fill=\"#fcd116\">\n",
              "    <g id=\"c\">\n",
              "      <path id=\"t\" d=\"M 0,-100 V 0 H 50\" transform=\"rotate(18 0,-100)\"/>\n",
              "      <use xmlns:xlink=\"http://www.w3.org/1999/xlink\" xlink:href=\"#t\" transform=\"scale(-1,1)\"/>\n",
              "    </g>\n",
              "    <use xmlns:xlink=\"http://www.w3.org/1999/xlink\" xlink:href=\"#c\" transform=\"rotate(72)\"/>\n",
              "    <use xmlns:xlink=\"http://www.w3.org/1999/xlink\" xlink:href=\"#c\" transform=\"rotate(144)\"/>\n",
              "    <use xmlns:xlink=\"http://www.w3.org/1999/xlink\" xlink:href=\"#c\" transform=\"rotate(216)\"/>\n",
              "    <use xmlns:xlink=\"http://www.w3.org/1999/xlink\" xlink:href=\"#c\" transform=\"rotate(288)\"/>\n",
              "  </g>\n",
              "</svg>\n"
            ]
          },
          "metadata": {}
        }
      ]
    }
  ]
}